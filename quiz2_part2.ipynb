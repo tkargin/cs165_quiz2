{
  "nbformat": 4,
  "nbformat_minor": 0,
  "metadata": {
    "colab": {
      "name": "quiz2.ipynb",
      "provenance": [],
      "collapsed_sections": [],
      "toc_visible": true
    },
    "kernelspec": {
      "name": "python3",
      "display_name": "Python 3"
    },
    "accelerator": "GPU"
  },
  "cells": [
    {
      "cell_type": "code",
      "metadata": {
        "id": "oAtZXNGCgNRK",
        "colab_type": "code",
        "outputId": "9b56c785-71b6-44c3-f282-8bc68d8f2bb6",
        "colab": {
          "base_uri": "https://localhost:8080/",
          "height": 102
        }
      },
      "source": [
        "!pip install -U tensorly\n",
        "\n",
        "import torch\n",
        "import torch.nn as nn\n",
        "import torch.optim as optim\n",
        "import torch.nn.functional as F\n",
        "import torch.backends.cudnn as cudnn\n",
        "import math\n",
        "import matplotlib.pyplot as plt\n",
        "import torchvision\n",
        "import torchvision.transforms as transforms\n",
        "\n",
        "import sklearn\n",
        "from sklearn.preprocessing import normalize\n",
        "\n",
        "from IPython.display import Image, display\n",
        "from torch.autograd import Variable\n",
        "\n",
        "import tensorly as tl\n",
        "import numpy as np\n",
        "from tensorly.tenalg import inner\n",
        "from tensorly.random import check_random_state\n",
        "from tensorly.decomposition import parafac\n",
        "\n",
        "\n",
        "tl.set_backend('numpy')\n",
        "\n",
        "device = 'cuda' if torch.cuda.is_available() else 'cpu'    #CPU or GPU\n",
        "print(device)\n",
        "\n"
      ],
      "execution_count": 1,
      "outputs": [
        {
          "output_type": "stream",
          "text": [
            "Requirement already up-to-date: tensorly in /usr/local/lib/python3.6/dist-packages (0.4.5)\n",
            "Requirement already satisfied, skipping upgrade: numpy in /usr/local/lib/python3.6/dist-packages (from tensorly) (1.18.2)\n",
            "Requirement already satisfied, skipping upgrade: nose in /usr/local/lib/python3.6/dist-packages (from tensorly) (1.3.7)\n",
            "Requirement already satisfied, skipping upgrade: scipy in /usr/local/lib/python3.6/dist-packages (from tensorly) (1.4.1)\n",
            "cuda\n"
          ],
          "name": "stdout"
        }
      ]
    },
    {
      "cell_type": "code",
      "metadata": {
        "id": "4GWdUlNkJA3W",
        "colab_type": "code",
        "colab": {
          "base_uri": "https://localhost:8080/",
          "height": 34
        },
        "outputId": "d7189cec-cc37-443d-b83d-c201f2390a57"
      },
      "source": [
        "### PART A\n",
        "print('PART A')\n",
        "class CPD():\n",
        "  #Whitening function\n",
        "  def whiten(tensor, matrix, rank):\n",
        "    gamma, U = np.linalg.eig(matrix)\n",
        "    idx = gamma.argsort()[::-1] \n",
        "    gamma = gamma[idx[:rank]]\n",
        "    U = U[:, idx[:rank]]\n",
        "\n",
        "    W = U.dot(np.diag(gamma ** (-0.5)))\n",
        "    dim = tensor.ndim\n",
        "\n",
        "    W_repeated = [W] * dim\n",
        "    return tl.tenalg.multi_mode_dot(tensor, [W.transpose()] * dim), W\n",
        "\n",
        "  #Unwhitening function\n",
        "  def unwhiten( V, Lambda, W):\n",
        "    W_pinv = np.linalg.pinv(np.transpose(W))\n",
        "    C = W_pinv.dot(V.dot(np.diag(Lambda)))\n",
        "    w = Lambda ** (-2)\n",
        "\n",
        "    return C, w\n",
        "\n",
        "  #Power method for tensors\n",
        "  def power_iteration( T1, V0, iternum):\n",
        "    dim = T1.ndim\n",
        "    n, m = np.shape(V0) \n",
        "    V_final = np.zeros(np.shape(V0))\n",
        "    Lambda = np.zeros(m)\n",
        "    err = np.zeros((m,iternum))\n",
        "    \n",
        "    T_current = T1;\n",
        "    for k in range(m):\n",
        "      v_old = V0[:,k]\n",
        "      \n",
        "      for count in range(iternum):\n",
        "        T = tl.tenalg.multi_mode_dot(T_current, [v_old] * (dim-1), modes=range(1,dim)) \n",
        "        lambd = tl.norm(T)\n",
        "        v_new = T / lambd\n",
        "        err[k,count] = np.linalg.norm(v_new - v_old)\n",
        "        v_old = v_new\n",
        "\n",
        "      V_final[:,k] = v_new\n",
        "      Lambda[k] = lambd\n",
        "      factors = [np.reshape(v_new, (n,1))] * dim\n",
        "      weights = [lambd]*1\n",
        "      T_current = T_current - tl.kruskal_to_tensor((weights, factors))\n",
        "\n",
        "    return V_final, Lambda, err\n",
        "\n"
      ],
      "execution_count": 2,
      "outputs": [
        {
          "output_type": "stream",
          "text": [
            "PART A\n"
          ],
          "name": "stdout"
        }
      ]
    },
    {
      "cell_type": "code",
      "metadata": {
        "id": "El80NdVgiY_2",
        "colab_type": "code",
        "outputId": "f422a635-09a2-4b8a-c021-730b0f909473",
        "colab": {
          "base_uri": "https://localhost:8080/",
          "height": 346
        }
      },
      "source": [
        "### PART B\n",
        "print('PART B')\n",
        "rank = 3 #rank is predetermined\n",
        "iternum = 10 #power iterations\n",
        "\n",
        "#load tensor and matrix\n",
        "tensor1 = tl.tensor(np.load('/content/drive/My Drive/third_mmt_tensor_1.npy'))\n",
        "matrix1 = np.load('/content/drive/My Drive/second_mmt_matrix_1.npy')\n",
        "\n",
        "#perform whitening\n",
        "white_tensor1, W1 = CPD.whiten(tensor1, matrix1, rank)\n",
        "#randomly generate initial vectors\n",
        "V0 = np.random.rand(rank, rank)\n",
        "V0_norm = np.linalg.norm(V0, axis=0)\n",
        "V0 = V0 / V0_norm.reshape(1,rank)\n",
        "#perform power iterations\n",
        "V1, Lambda1, err = CPD.power_iteration(white_tensor1, V0,  iternum)\n",
        "#unwhiten the resulting factors and weights\n",
        "C1, w1 = CPD.unwhiten(V1,  Lambda1, W1)\n",
        "\n",
        "#perform reconstruction\n",
        "recons_tensor1 = tl.kruskal_to_tensor((w1, [C1]*3))\n",
        "#reconstruction error\n",
        "err1 = tl.norm(tensor1 - recons_tensor1)\n",
        "print('Reconstruction L2 error, err1 =', err1)\n",
        "\n",
        "print(w1)\n",
        "\n",
        "plt.figure(0)\n",
        "plt.plot(range(iternum),err[0,:], label='1st factor')\n",
        "plt.plot(range(iternum),err[1,:], label='2nd factor')\n",
        "plt.plot(range(iternum),err[2,:], label='3rd factor')\n",
        "plt.legend(loc='best')\n",
        "plt.xlabel('Power Iterations')\n",
        "plt.ylabel('L2 error')\n",
        "plt.title('Error between the current and previous factor vectors at each time step')\n",
        "plt.show()"
      ],
      "execution_count": 3,
      "outputs": [
        {
          "output_type": "stream",
          "text": [
            "PART B\n",
            "Reconstruction L2 error, err1 = 2.5775726040506885e-15\n",
            "[1. 1. 1.]\n"
          ],
          "name": "stdout"
        },
        {
          "output_type": "display_data",
          "data": {
            "image/png": "[encoded data removed]",
            "text/plain": [
              "<Figure size 432x288 with 1 Axes>"
            ]
          },
          "metadata": {
            "tags": []
          }
        }
      ]
    },
    {
      "cell_type": "code",
      "metadata": {
        "id": "0kepz85ERW8w",
        "colab_type": "code",
        "outputId": "b19b7e2e-dd58-42f4-f673-038f6a5e7c9e",
        "colab": {
          "base_uri": "https://localhost:8080/",
          "height": 329
        }
      },
      "source": [
        "### PART C\n",
        "print('PART C')\n",
        "rank = 3 #rank is predetermined\n",
        "iternum = 10 #power iterations\n",
        "\n",
        "#load tensor and matrix\n",
        "tensor1 = tl.tensor(np.load('/content/drive/My Drive/third_mmt_tensor_1.npy'))\n",
        "matrix1 = np.load('/content/drive/My Drive/second_mmt_matrix_1.npy')\n",
        "\n",
        "\n",
        "#randomly generate initial vectors\n",
        "V0 = np.random.rand(tensor1.shape[0], rank)\n",
        "V0_norm = np.linalg.norm(V0, axis=0)\n",
        "V0 = V0 / V0_norm.reshape(1,rank)\n",
        "#perform power iterations\n",
        "V1, Lambda1, err = CPD.power_iteration(tensor1, V0,  iternum)\n",
        "\n",
        "#perform reconstruction\n",
        "recons_tensor1 = tl.kruskal_to_tensor((Lambda1, [V1]*3))\n",
        "#reconstruction error\n",
        "err1 = tl.norm(tensor1 - recons_tensor1)\n",
        "print('Reconstruction L2 error, err1 =', err1)\n",
        "\n",
        "plt.figure(1)\n",
        "plt.plot(range(iternum),err[0,:], label='1st factor')\n",
        "plt.plot(range(iternum),err[1,:], label='2nd factor')\n",
        "plt.plot(range(iternum),err[2,:], label='3rd factor')\n",
        "plt.legend(loc='best')\n",
        "plt.xlabel('Power Iterations')\n",
        "plt.ylabel('L2 error')\n",
        "plt.title('Error between the current and previous factor vectors at each time step')\n",
        "plt.show()"
      ],
      "execution_count": 4,
      "outputs": [
        {
          "output_type": "stream",
          "text": [
            "PART C\n",
            "Reconstruction L2 error, err1 = 0.4559572775975251\n"
          ],
          "name": "stdout"
        },
        {
          "output_type": "display_data",
          "data": {
            "image/png": "[encoded data removed]",
            "text/plain": [
              "<Figure size 432x288 with 1 Axes>"
            ]
          },
          "metadata": {
            "tags": []
          }
        }
      ]
    },
    {
      "cell_type": "markdown",
      "metadata": {
        "id": "Lb70fPkJ_fuZ",
        "colab_type": "text"
      },
      "source": [
        "## From the previous result, we can see that the direct reconstruction error is 1E-14 times higher than the whitened reconstruction. Error plot also shows that 3rd eigenvector has some peaks over iterations. Therefore, whitening definitely helps us with CP-decomposition.\n",
        "\n"
      ]
    },
    {
      "cell_type": "code",
      "metadata": {
        "id": "rPgea4mZUR0T",
        "colab_type": "code",
        "outputId": "11937000-89d1-4d08-a946-f790e379c4a0",
        "colab": {
          "base_uri": "https://localhost:8080/",
          "height": 68
        }
      },
      "source": [
        "### PART D\n",
        "print('PART D')\n",
        "rank = 3 #rank is predetermined\n",
        "iternum = 10 #power iterations\n",
        "\n",
        "#load tensor and matrix\n",
        "tensor1 = tl.tensor(np.load('/content/drive/My Drive/third_mmt_tensor_1.npy'))\n",
        "matrix1 = np.load('/content/drive/My Drive/second_mmt_matrix_1.npy')\n",
        "\n",
        "#perform parafac without whitening\n",
        "weights_direct, factors_direct = parafac(tensor1, rank=rank)\n",
        "\n",
        "#perform parafac with whitening/unwhitening\n",
        "white_tensor1, W1 = CPD.whiten(tensor1, matrix1, rank)\n",
        "weights_white, factors_white = parafac(white_tensor1, rank=rank)\n",
        "factors_unwhite = []\n",
        "for f_white in factors_white:\n",
        "  f_unwhite, weights_unwhite = CPD.unwhiten(f_white,  weights_white, W1)\n",
        "  factors_unwhite.append(f_unwhite)\n",
        "\n",
        "#perform reconstructions\n",
        "recons_tensor_direct = tl.kruskal_to_tensor((weights_direct, factors_direct))\n",
        "recons_tensor_unwhite = tl.kruskal_to_tensor((weights_unwhite, factors_unwhite))\n",
        "\n",
        "#reconstruction error\n",
        "err_direct = tl.norm(tensor1 - recons_tensor_direct)\n",
        "err_unwhite = tl.norm(tensor1 - recons_tensor_unwhite)\n",
        "\n",
        "print('Direct reconstruction L2 error, err_direct =', err_direct)\n",
        "print('Whitened reconstruction L2 error, err_unwhite =', err_unwhite)"
      ],
      "execution_count": 5,
      "outputs": [
        {
          "output_type": "stream",
          "text": [
            "PART D\n",
            "Direct reconstruction L2 error, err_direct = 0.15580743954451848\n",
            "Whitened reconstruction L2 error, err_unwhite = 3.749263591439465e-15\n"
          ],
          "name": "stdout"
        }
      ]
    },
    {
      "cell_type": "markdown",
      "metadata": {
        "id": "OWUTxoH3Axl-",
        "colab_type": "text"
      },
      "source": [
        "## Same as before. Direct reconstruction error with ALS is 1E+14 times higher than the whitened reconstruction with ALS. Therefore, whitening is necessary also with ALS method.\n",
        "\n"
      ]
    },
    {
      "cell_type": "code",
      "metadata": {
        "id": "ttfdX7I1aOKn",
        "colab_type": "code",
        "outputId": "9f646f6d-a7f2-45f2-cd3a-e1f9cf27d7cf",
        "colab": {
          "base_uri": "https://localhost:8080/",
          "height": 170
        }
      },
      "source": [
        "### PART E\n",
        "print('PART E')\n",
        "rank = 3 #rank is predetermined\n",
        "iternum = 10 #power iterations\n",
        "\n",
        "#load tensors and matricies\n",
        "tensor2 = tl.tensor(np.load('/content/drive/My Drive/third_mmt_tensor_2.npy'))\n",
        "matrix2 = np.load('/content/drive/My Drive/second_mmt_matrix_2.npy')\n",
        "\n",
        "tensor3 = tl.tensor(np.load('/content/drive/My Drive/third_mmt_tensor_3.npy'))\n",
        "matrix3 = np.load('/content/drive/My Drive/second_mmt_matrix_3.npy')\n",
        "\n",
        "## Power Iteration and ALS methods on tensor2 and tensor3\n",
        "#perform whitening\n",
        "white_tensor2, W2 = CPD.whiten(tensor2, matrix2, rank)\n",
        "white_tensor3, W3 = CPD.whiten(tensor3, matrix3, rank)\n",
        "\n",
        "#randomly generate initial vectors\n",
        "V0_2 = np.random.rand(rank, rank)\n",
        "V0_norm_2 = np.linalg.norm(V0_2, axis=0)\n",
        "V0_2 = V0_2 / V0_norm_2.reshape(1,rank)\n",
        "\n",
        "V0_3 = np.random.rand(rank, rank)\n",
        "V0_norm_3 = np.linalg.norm(V0_3, axis=0)\n",
        "V0_3 = V0_3 / V0_norm_3.reshape(1,rank)\n",
        "\n",
        "#perform power iterations\n",
        "V2, Lambda2, err2 = CPD.power_iteration(white_tensor2, V0_2,  iternum)\n",
        "V3, Lambda3, err3 = CPD.power_iteration(white_tensor3, V0_3,  iternum)\n",
        "\n",
        "#perform ALS with parafac\n",
        "weights_white2, factors_white2 = parafac(white_tensor2, rank=rank)\n",
        "weights_white3, factors_white3 = parafac(white_tensor3, rank=rank)\n",
        "\n",
        "#perform ALS with parafac (direct)\n",
        "weights_direct2, factors_direct2 = parafac(tensor2, rank=rank)\n",
        "weights_direct3, factors_direct3 = parafac(tensor3, rank=rank)\n",
        "\n",
        "#unwhiten the resulting factors and weights\n",
        "C2, w2 = CPD.unwhiten(V2, Lambda2, W2)\n",
        "C3, w3 = CPD.unwhiten(V3, Lambda3, W3)\n",
        "\n",
        "factors_unwhite2 = []\n",
        "for f_white in factors_white2:\n",
        "  f_unwhite, weights_unwhite2 = CPD.unwhiten(f_white, weights_white2, W2)\n",
        "  factors_unwhite2.append(f_unwhite)\n",
        "\n",
        "factors_unwhite3 = []\n",
        "for f_white in factors_white3:\n",
        "  f_unwhite, weights_unwhite3 = CPD.unwhiten(f_white, weights_white3, W3)\n",
        "  factors_unwhite3.append(f_unwhite)\n",
        "\n",
        "#perform reconstructions\n",
        "recons_tensor_power_2 = tl.kruskal_to_tensor((w2, [C2]*3))\n",
        "recons_tensor_power_3 = tl.kruskal_to_tensor((w3, [C3]*3))\n",
        "recons_tensor_ALS_2 = tl.kruskal_to_tensor((weights_unwhite2, factors_unwhite2))\n",
        "recons_tensor_ALS_3 = tl.kruskal_to_tensor((weights_unwhite3, factors_unwhite3))\n",
        "recons_tensor_ALS_direct_2 = tl.kruskal_to_tensor((weights_direct2, factors_direct2))\n",
        "recons_tensor_ALS_direct_3 = tl.kruskal_to_tensor((weights_direct3, factors_direct3))\n",
        "\n",
        "#reconstruction error\n",
        "err_power_2 = tl.norm(tensor2 - recons_tensor_power_2)\n",
        "err_power_3 = tl.norm(tensor3 - recons_tensor_power_3)\n",
        "err_ALS_2 = tl.norm(tensor2 - recons_tensor_ALS_2)\n",
        "err_ALS_3 = tl.norm(tensor3 - recons_tensor_ALS_3)\n",
        "err_ALS_direct_2 = tl.norm(tensor2 - recons_tensor_ALS_direct_2)\n",
        "err_ALS_direct_3 = tl.norm(tensor3 - recons_tensor_ALS_direct_3)\n",
        "\n",
        "print('Power method reconstruction error of 2nd tensor =', err_power_2)\n",
        "print('Power method reconstruction error of 3rd tensor =', err_power_3)\n",
        "print('ALS reconstruction error of 2nd tensor =', err_ALS_2)\n",
        "print('ALS reconstruction error of 3rd tensor =', err_ALS_3)\n",
        "print('ALS (direct) reconstruction error of 2nd tensor =', err_ALS_direct_2)\n",
        "print('ALS (direct) reconstruction error of 3rd tensor =', err_ALS_direct_3)"
      ],
      "execution_count": 6,
      "outputs": [
        {
          "output_type": "stream",
          "text": [
            "PART E\n"
          ],
          "name": "stdout"
        },
        {
          "output_type": "stream",
          "text": [
            "/usr/local/lib/python3.6/dist-packages/ipykernel_launcher.py:43: ComplexWarning: Casting complex values to real discards the imaginary part\n",
            "/usr/local/lib/python3.6/dist-packages/ipykernel_launcher.py:44: ComplexWarning: Casting complex values to real discards the imaginary part\n"
          ],
          "name": "stderr"
        },
        {
          "output_type": "stream",
          "text": [
            "Power method reconstruction error of 2nd tensor = (5.465796725443996e-15+0j)\n",
            "Power method reconstruction error of 3rd tensor = (1.8011366655873893e-13+0j)\n",
            "ALS reconstruction error of 2nd tensor = (6.13468232240169e-15+0j)\n",
            "ALS reconstruction error of 3rd tensor = (1.8090210487010814e-13+0j)\n",
            "ALS (direct) reconstruction error of 2nd tensor = 0.025015386749586952\n",
            "ALS (direct) reconstruction error of 3rd tensor = 0.9217246037203495\n"
          ],
          "name": "stdout"
        }
      ]
    },
    {
      "cell_type": "markdown",
      "metadata": {
        "id": "UZyBQw15BURE",
        "colab_type": "text"
      },
      "source": [
        "## It seems that increase of conditioneing number from 10 to 100 resulted in 10-fold increase in reconstruction error for both methods. However, there is no significant difference between reconstruction errors of the first and the second tensors. The power method is slightly less impacted than ALS method from changes in contitioning."
      ]
    },
    {
      "cell_type": "code",
      "metadata": {
        "id": "C4CJOHkDY7e9",
        "colab_type": "code",
        "outputId": "d8001554-b27e-49a2-b500-b27a690a412e",
        "colab": {
          "base_uri": "https://localhost:8080/",
          "height": 34
        }
      },
      "source": [
        "#PART F\n",
        "print('PART F')\n",
        "tl.set_backend('pytorch')\n",
        "\n",
        "class TCL_whitener(nn.Module):\n",
        "  def __init__(self, input_size, rank, initial = None , verbose=1, **kwargs):\n",
        "    super(TCL_whitener, self).__init__(**kwargs)\n",
        "    self.verbose = verbose\n",
        "\n",
        "    if isinstance(input_size, int):\n",
        "      self.input_size = [input_size]\n",
        "    else:\n",
        "      self.input_size = list(input_size)\n",
        "        \n",
        "    self.dim = len(self.input_size)\n",
        "    self.length = self.input_size[0]\n",
        "\n",
        "    if initial is None:\n",
        "      self.whitener = nn.Parameter(tl.tensor(np.random.rand(rank, self.length)), requires_grad=True)\n",
        "    else:\n",
        "      self.whitener = nn.Parameter(tl.tensor(initial), requires_grad=True)\n",
        "    \n",
        "\n",
        "  def forward(self, x):\n",
        "    return tl.tenalg.multi_mode_dot(x, [self.whitener] * self.dim), self.whitener\n",
        "\n",
        "  def whitening_tensor(self):\n",
        "    return self.whitener\n",
        "    \n",
        "  def penalty(self, order=2):\n",
        "    return tl.norm(self.whitener, order) ** order"
      ],
      "execution_count": 7,
      "outputs": [
        {
          "output_type": "stream",
          "text": [
            "PART F\n"
          ],
          "name": "stdout"
        }
      ]
    },
    {
      "cell_type": "code",
      "metadata": {
        "id": "65Nc0I90sCs6",
        "colab_type": "code",
        "outputId": "c4c24d2a-eaec-475e-972b-0657341cb40f",
        "colab": {
          "base_uri": "https://localhost:8080/",
          "height": 363
        }
      },
      "source": [
        "#PART G\n",
        "print('PART G')\n",
        "\n",
        "class CP_Net(nn.Module):\n",
        "  def __init__(self, input_size, rank, initial_W = None, initial_params = None):\n",
        "    super(CP_Net, self).__init__()\n",
        "\n",
        "    self.input_size = input_size\n",
        "    self.rank = rank\n",
        "    self.dim = len(self.input_size)\n",
        "    self.length = self.input_size[0]\n",
        "    self.initial_W = initial_W\n",
        "    self.initial_params = initial_params\n",
        "    self.whitener = TCL_whitener(input_size = self.input_size, rank = self.rank, initial = self.initial_W)\n",
        "\n",
        "    if self.initial_params is None:\n",
        "      V = np.random.rand(rank, rank)\n",
        "      V_norm = np.linalg.norm(V, axis=0)\n",
        "      self.V = nn.Parameter(tl.tensor(V / V_norm.reshape(1,rank)), requires_grad=True) \n",
        "      self.Lambda = nn.Parameter(tl.tensor(np.random.rand(rank)), requires_grad=True) \n",
        "    else:\n",
        "      V, Lambda = self.initial_params\n",
        "      self.V = nn.Parameter(tl.tensor(V), requires_grad=True) \n",
        "      self.Lambda = nn.Parameter(tl.tensor(Lambda), requires_grad=True)\n",
        "    \n",
        "\n",
        "  def forward(self, x):\n",
        "    #whiten first\n",
        "    x_white, whitener_matrix = self.whitener(x)\n",
        "\n",
        "    #reconstruct whiten version\n",
        "    reconstruction_white = tl.kruskal_to_tensor((self.Lambda, [self.V]*self.rank))\n",
        "    \n",
        "    #unwhiten\n",
        "    W_pinv = torch.pinverse(whitener_matrix)\n",
        "    C = torch.mm(W_pinv,torch.mm(self.V, torch.diag(self.Lambda)))\n",
        "    w = self.Lambda ** (-2)\n",
        "\n",
        "    #reconstruct unwhiten version\n",
        "    reconstruction_unwhite = tl.kruskal_to_tensor((w, [C]*self.rank))\n",
        "    \n",
        "    return x_white, reconstruction_white, reconstruction_unwhite\n",
        "\n",
        "\n",
        "\n",
        "\n",
        "tensor1 = tl.tensor(np.load('/content/drive/My Drive/third_mmt_tensor_1.npy'))\n",
        "matrix1 = np.load('/content/drive/My Drive/second_mmt_matrix_1.npy')\n",
        "tensor2 = tl.tensor(np.load('/content/drive/My Drive/third_mmt_tensor_2.npy'))\n",
        "matrix2 = np.load('/content/drive/My Drive/second_mmt_matrix_2.npy')\n",
        "#tensor3 = tl.tensor(np.load('/content/drive/My Drive/third_mmt_tensor_3.npy'))\n",
        "#matrix3 = np.load('/content/drive/My Drive/second_mmt_matrix_3.npy')\n",
        "\n",
        "\n",
        "\n",
        "model1 = CP_Net(input_size = tensor1.shape, rank = 3)\n",
        "model1 = model1.cuda() #this line is in order to use GPU\n",
        "model2 = CP_Net(input_size = tensor2.shape, rank = 3)\n",
        "model2 = model2.cuda() #this line is in order to use GPU\n",
        "#model3 = CP_Net(input_size = tensor3.shape, rank = 3)\n",
        "#model3 = model3.cuda() #this line is in order to use GPU\n",
        "\n",
        "\n",
        "trainstep = 40\n",
        "\n",
        "# Loss and optimizer\n",
        "def loss_function(output, target):\n",
        "  eta = 0.1\n",
        "  output_x_white, output_recons_white, output_recons_unwhite = output\n",
        "  loss = (eta*tl.norm(output_x_white - output_recons_white) ** 2 + tl.norm(target - output_recons_unwhite) ** 2) / target.numel();\n",
        "  return loss\n",
        "\n",
        "def recons_loss(output, target):\n",
        "  _, _, output_recons_unwhite = output\n",
        "  loss =  tl.norm(target - output_recons_unwhite)\n",
        "  return loss\n",
        "\n",
        "optimizer1 = optim.SGD(model1.parameters(), lr=0.0001, momentum=0.9)#, weight_decay=8e-10)\n",
        "optimizer2 = optim.SGD(model2.parameters(), lr=0.0008, momentum=0.9)#, weight_decay=8e-10)\n",
        "#optimizer3 = optim.SGD(model3.parameters(), lr=0.0001, momentum=0.9)#, weight_decay=8e-10)\n",
        "\n",
        "# Train the models\n",
        "\n",
        "loss_list_1 = []\n",
        "loss_list_2 = []\n",
        "#loss_list_3 = []\n",
        "\n",
        "reg1 = 1\n",
        "reg2 = 0.1\n",
        "#reg3 = 1\n",
        "\n",
        "tensor1 = tensor1.cuda(async=True)\n",
        "tensor1 = Variable(tensor1)\n",
        "tensor2 = tensor2.cuda(async=True)\n",
        "tensor2 = Variable(tensor2)\n",
        "#tensor3 = tensor3.cuda(async=True)\n",
        "#tensor3 = Variable(tensor3)\n",
        "\n",
        "for step in range(trainstep):\n",
        "  # Run the forward pass\n",
        "  outputs1 = model1(tensor1)\n",
        "  outputs2 = model2(tensor2)\n",
        "  #outputs3 = model3(tensor3)\n",
        "\n",
        "  #compute loss\n",
        "  loss1 = loss_function(outputs1, tensor1) + reg1*model1.whitener.penalty()\n",
        "  loss_list_1.append(recons_loss(outputs1, tensor1).item())\n",
        "\n",
        "  loss2 = loss_function(outputs2, tensor2) + reg2*model2.whitener.penalty()\n",
        "  loss_list_2.append(recons_loss(outputs2, tensor2).item())\n",
        "\n",
        "  #loss3 = loss_function(outputs3, tensor3) + reg3*model3.whitener.penalty()\n",
        "  #loss_list_3.append(recons_loss(outputs3, tensor3).item())\n",
        "\n",
        "\n",
        "  # Backprop \n",
        "  optimizer1.zero_grad()\n",
        "  loss1.backward()\n",
        "  optimizer1.step()\n",
        "\n",
        "  optimizer2.zero_grad()\n",
        "  loss2.backward()\n",
        "  optimizer2.step()\n",
        "\n",
        "  #optimizer3.zero_grad()\n",
        "  #loss3.backward()\n",
        "  #optimizer3.step()\n",
        "\n",
        "\n",
        "  #Normalize V\n",
        "  V1_norm = torch.norm(model1.V, dim=0)\n",
        "  V2_norm = torch.norm(model2.V, dim=0)\n",
        "  #V3_norm = torch.norm(model3.V, dim=0)\n",
        "\n",
        "  model1.V.data = model1.V / V1_norm.reshape(1,model1.rank)\n",
        "  model2.V.data = model2.V / V2_norm.reshape(1,model2.rank)\n",
        "  #model3.V.data = model3.V / V3_norm.reshape(1,model3.rank)\n",
        "\n",
        "print('Finished Training')\n",
        "\n",
        "print('Minimum reconstruction error for 1st tensor = ', min(loss_list_1))\n",
        "print('Minimum reconstruction error for 2nd tensor = ', min(loss_list_2))\n",
        "#print('Minimum reconstruction error for 3rd tensor = ', min(loss_list_3))\n",
        "\n",
        "plt.figure(2)\n",
        "plt.plot(range(trainstep),loss_list_1, label='1st tensor')\n",
        "plt.plot(range(trainstep),loss_list_2, label='2nd tensor')\n",
        "#plt.plot(range(trainstep),loss_list_3, label='3rd tensor')\n",
        "plt.legend(loc='best')\n",
        "plt.xlabel('Iterations')\n",
        "plt.ylabel('Loss')\n",
        "plt.title('Unwhitened Reconstruction Loss During Training')\n",
        "plt.show()"
      ],
      "execution_count": 53,
      "outputs": [
        {
          "output_type": "stream",
          "text": [
            "PART G\n",
            "Finished Training\n",
            "Minimum reconstruction error for 1st tensor =  3.8192453384399414\n",
            "Minimum reconstruction error for 2nd tensor =  5.007412910461426\n"
          ],
          "name": "stdout"
        },
        {
          "output_type": "display_data",
          "data": {
            "image/png": "[encoded data removed]",
            "text/plain": [
              "<Figure size 432x288 with 1 Axes>"
            ]
          },
          "metadata": {
            "tags": []
          }
        }
      ]
    },
    {
      "cell_type": "markdown",
      "metadata": {
        "id": "TyE_hHmSC6AD",
        "colab_type": "text"
      },
      "source": [
        "## The success of this algorithm is higly dependent on hyperparameter tuning such as learning rate and regularizer coefficients. After tuning these hyperparameters as much as possible, the errors are 1E+15 times higher than power method CP-decomposition. Results can be improved by fine-tuning the hyperparameters. Note that for some cases the whitening matrix grows indefinetely and the scpirt raises error. Re-run in that case until it works. Although I penalized the norm of whitening matrix to overcome this problem, it still can cause issues."
      ]
    },
    {
      "cell_type": "code",
      "metadata": {
        "id": "YdOb_WGx4-Za",
        "colab_type": "code",
        "colab": {
          "base_uri": "https://localhost:8080/",
          "height": 397
        },
        "outputId": "8043c15d-c8c5-4eb5-ea9c-a29500173e9c"
      },
      "source": [
        "rank = 3\n",
        "\n",
        "tl.set_backend('numpy')\n",
        "tensor1 = tl.tensor(np.load('/content/drive/My Drive/third_mmt_tensor_1.npy'))\n",
        "matrix1 = np.load('/content/drive/My Drive/second_mmt_matrix_1.npy')\n",
        "tensor2 = tl.tensor(np.load('/content/drive/My Drive/third_mmt_tensor_2.npy'))\n",
        "matrix2 = np.load('/content/drive/My Drive/second_mmt_matrix_2.npy')\n",
        "#tensor3 = tl.tensor(np.load('/content/drive/My Drive/third_mmt_tensor_3.npy'))\n",
        "#matrix3 = np.load('/content/drive/My Drive/second_mmt_matrix_3.npy')\n",
        "\n",
        "\n",
        "#perform whitening\n",
        "white_tensor1, W1 = CPD.whiten(tensor1, matrix1, rank)\n",
        "white_tensor2, W2 = CPD.whiten(tensor2, matrix2, rank)\n",
        "#white_tensor3, W3 = CPD.whiten(tensor2, matrix3, rank)\n",
        "#randomly generate initial vectors\n",
        "V0_1 = np.random.rand(rank, rank)\n",
        "V0_norm_1 = np.linalg.norm(V0_1, axis=0)\n",
        "V0_1 = V0_1/ V0_norm_1.reshape(1,rank)\n",
        "\n",
        "V0_2 = np.random.rand(rank, rank)\n",
        "V0_norm_2 = np.linalg.norm(V0_2, axis=0)\n",
        "V0_2 = V0_2/ V0_norm_2.reshape(1,rank)\n",
        "\n",
        "#V0_3 = np.random.rand(rank, rank)\n",
        "#V0_norm_2 = np.linalg.norm(V0_3, axis=0)\n",
        "#V0_3 = V0_3/ V0_norm_3.reshape(1,rank)\n",
        "\n",
        "\n",
        "#perform power iterations\n",
        "V1, Lambda1, _ = CPD.power_iteration(white_tensor1, V0_1,  iternum)\n",
        "V2, Lambda2, _ = CPD.power_iteration(white_tensor2, V0_2,  iternum)\n",
        "#V3, Lambda3, _ = CPD.power_iteration(white_tensor3, V0_3,  iternum)\n",
        "\n",
        "tl.set_backend('pytorch')\n",
        "tensor1 = tl.tensor(np.load('/content/drive/My Drive/third_mmt_tensor_1.npy'))\n",
        "matrix1 = np.load('/content/drive/My Drive/second_mmt_matrix_1.npy')\n",
        "tensor2 = tl.tensor(np.load('/content/drive/My Drive/third_mmt_tensor_2.npy'))\n",
        "matrix2 = np.load('/content/drive/My Drive/second_mmt_matrix_2.npy')\n",
        "#tensor3 = tl.tensor(np.load('/content/drive/My Drive/third_mmt_tensor_3.npy'))\n",
        "#matrix3 = np.load('/content/drive/My Drive/second_mmt_matrix_3.npy')\n",
        "\n",
        "model1 = CP_Net(input_size = tensor1.shape, rank = 3, initial_W = np.float64(W1.transpose()), initial_params = (np.float64(V1), np.float64(Lambda1)))\n",
        "model1 = model1.cuda() #this line is in order to use GPU\n",
        "model2 = CP_Net(input_size = tensor2.shape, rank = 3, initial_W = np.float64(W2.transpose()), initial_params = (np.float64(V2), np.float64(Lambda2)))\n",
        "model2 = model2.cuda() #this line is in order to use GPU\n",
        "#model3 = CP_Net(input_size = tensor3.shape, rank = 3, initial_W = np.float64(W3), initial_params = (np.float64(V3), np.float64(Lambda3)))\n",
        "#model3 = model3.cuda() #this line is in order to use GPU\n",
        "\n",
        "\n",
        "trainstep = 30\n",
        "\n",
        "# Loss and optimizer\n",
        "def loss_function(output, target):\n",
        "  eta = 0.1\n",
        "  output_x_white, output_recons_white, output_recons_unwhite = output\n",
        "  loss = (eta*tl.norm(output_x_white - output_recons_white ) ** 2 + tl.norm(target - output_recons_unwhite ) ** 2) / target.numel();\n",
        "  return loss\n",
        "\n",
        "def recons_loss(output, target):\n",
        "  _, _, output_recons_unwhite = output\n",
        "  loss =  tl.norm(target - output_recons_unwhite )\n",
        "  return loss\n",
        "\n",
        "optimizer1 = optim.SGD(model1.parameters(), lr=0.1)#, momentum=0.9)#, weight_decay=8e-10)\n",
        "optimizer2 = optim.SGD(model2.parameters(), lr=0.4)#, momentum=0.9)#, weight_decay=8e-10)\n",
        "#optimizer3 = optim.SGD(model3.parameters(), lr=0.0001, momentum=0.9)#, weight_decay=8e-10)\n",
        "\n",
        "# Train the models\n",
        "\n",
        "loss_list_1 = []\n",
        "loss_list_2 = []\n",
        "#loss_list_3 = []\n",
        "\n",
        "reg1 = 0\n",
        "reg2 = 0\n",
        "#reg3 = 1\n",
        "\n",
        "tensor1 = tensor1.cuda(async=True)\n",
        "tensor1 = Variable(tensor1)\n",
        "tensor2 = tensor2.cuda(async=True)\n",
        "tensor2 = Variable(tensor2)\n",
        "#tensor3 = tensor3.cuda(async=True)\n",
        "#tensor3 = Variable(tensor3)\n",
        "\n",
        "for step in range(trainstep):\n",
        "  # Run the forward pass\n",
        "  outputs1 = model1(tensor1)\n",
        "  outputs2 = model2(tensor2)\n",
        "  #outputs3 = model3(tensor3)\n",
        "\n",
        "  #compute loss\n",
        "  loss1 = loss_function(outputs1, tensor1) + reg1*model1.whitener.penalty()\n",
        "  loss_list_1.append(recons_loss(outputs1, tensor1).item())\n",
        "\n",
        "  loss2 = loss_function(outputs2, tensor2) + reg2*model2.whitener.penalty()\n",
        "  loss_list_2.append(recons_loss(outputs2, tensor2).item())\n",
        "\n",
        "  #loss3 = loss_function(outputs3, tensor3) + reg3*model3.whitener.penalty()\n",
        "  #loss_list_3.append(recons_loss(outputs3, tensor3).item()))\n",
        "\n",
        "\n",
        "  # Backprop \n",
        "  optimizer1.zero_grad()\n",
        "  loss1.backward()\n",
        "  optimizer1.step()\n",
        "\n",
        "  optimizer2.zero_grad()\n",
        "  loss2.backward()\n",
        "  optimizer2.step()\n",
        "\n",
        "  #optimizer3.zero_grad()\n",
        "  #loss3.backward()\n",
        "  #optimizer3.step()\n",
        "\n",
        "\n",
        "  #Normalize V\n",
        "  V1_norm = torch.norm(model1.V, dim=0)\n",
        "  V2_norm = torch.norm(model2.V, dim=0)\n",
        "  #V3_norm = torch.norm(model3.V, dim=0)\n",
        "\n",
        "  model1.V.data = model1.V / V1_norm.reshape(1,model1.rank)\n",
        "  model2.V.data = model2.V / V2_norm.reshape(1,model2.rank)\n",
        "  #model3.V.data = model3.V / V3_norm.reshape(1,model3.rank)\n",
        "\n",
        "print('Finished Training')\n",
        "\n",
        "print('Minimum reconstruction error for 1st tensor = ', min(loss_list_1))\n",
        "print('Minimum reconstruction error for 2nd tensor = ', min(loss_list_2))\n",
        "#print('Minimum reconstruction error for 3rd tensor = ', min(loss_list_3))\n",
        "\n",
        "plt.figure(2)\n",
        "plt.plot(range(trainstep),loss_list_1, label='1st tensor')\n",
        "plt.plot(range(trainstep),loss_list_2, label='2nd tensor')\n",
        "plt.legend(loc='best')\n",
        "plt.xlabel('Iterations')\n",
        "plt.ylabel('Loss')\n",
        "plt.title('Direct Reconstruction Loss During Training')\n",
        "plt.show()\n"
      ],
      "execution_count": 54,
      "outputs": [
        {
          "output_type": "stream",
          "text": [
            "/usr/local/lib/python3.6/dist-packages/ipykernel_launcher.py:43: ComplexWarning: Casting complex values to real discards the imaginary part\n",
            "/usr/local/lib/python3.6/dist-packages/ipykernel_launcher.py:44: ComplexWarning: Casting complex values to real discards the imaginary part\n",
            "/usr/local/lib/python3.6/dist-packages/ipykernel_launcher.py:45: ComplexWarning: Casting complex values to real discards the imaginary part\n"
          ],
          "name": "stderr"
        },
        {
          "output_type": "stream",
          "text": [
            "Finished Training\n",
            "Minimum reconstruction error for 1st tensor =  7.673374398109445e-07\n",
            "Minimum reconstruction error for 2nd tensor =  9.084033081308007e-07\n"
          ],
          "name": "stdout"
        },
        {
          "output_type": "display_data",
          "data": {
            "image/png": "[encoded data removed]",
            "text/plain": [
              "<Figure size 432x288 with 1 Axes>"
            ]
          },
          "metadata": {
            "tags": []
          }
        }
      ]
    },
    {
      "cell_type": "markdown",
      "metadata": {
        "id": "2MUodDpuHVpr",
        "colab_type": "text"
      },
      "source": [
        "## As the optimization started already with new-optimal parameters instead of random initilization, SGD converged very quickly back again to this initial parameter configuration after jiggling arraound for a brief time. When learning rate is decreased, SGD doesn't even chnage it's optimality position. I conclude that the network implementation of CP-decomposition is higly susceptible to initilization scheme."
      ]
    }
  ]
}